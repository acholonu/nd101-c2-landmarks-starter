{
 "cells": [
  {
   "cell_type": "markdown",
   "metadata": {},
   "source": [
    "# Convolutional Neural Networks\n",
    "\n",
    "## Project: Write an Algorithm for Landmark Classification\n",
    "\n",
    "---\n",
    "\n",
    "In this notebook, some template code has already been provided for you, and you will need to implement additional functionality to successfully complete this project. You will not need to modify the included code beyond what is requested. Sections that begin with **'(IMPLEMENTATION)'** in the header indicate that the following block of code will require additional functionality which you must provide. Instructions will be provided for each section, and the specifics of the implementation are marked in the code block with a 'TODO' statement. Please be sure to read the instructions carefully! \n",
    "\n",
    "> **Note**: Once you have completed all the code implementations, you need to finalize your work by exporting the Jupyter Notebook as an HTML document. Before exporting the notebook to HTML, all the code cells need to have been run so that reviewers can see the final implementation and output. You can then export the notebook by using the menu above and navigating to **File -> Download as -> HTML (.html)**. Include the finished document along with this notebook as your submission.\n",
    "\n",
    "In addition to implementing code, there will be questions that you must answer which relate to the project and your implementation. Each section where you will answer a question is preceded by a **'Question X'** header. Carefully read each question and provide thorough answers in the following text boxes that begin with **'Answer:'**. Your project submission will be evaluated based on your answers to each of the questions and the implementation you provide.\n",
    "\n",
    ">**Note:** Code and Markdown cells can be executed using the **Shift + Enter** keyboard shortcut.  Markdown cells can be edited by double-clicking the cell to enter edit mode.\n",
    "\n",
    "The rubric contains _optional_ \"Stand Out Suggestions\" for enhancing the project beyond the minimum requirements. If you decide to pursue the \"Stand Out Suggestions\", you should include the code in this Jupyter notebook.\n",
    "\n",
    "---\n",
    "### Why We're Here\n",
    "\n",
    "Photo sharing and photo storage services like to have location data for each photo that is uploaded. With the location data, these services can build advanced features, such as automatic suggestion of relevant tags or automatic photo organization, which help provide a compelling user experience. Although a photo's location can often be obtained by looking at the photo's metadata, many photos uploaded to these services will not have location metadata available. This can happen when, for example, the camera capturing the picture does not have GPS or if a photo's metadata is scrubbed due to privacy concerns.\n",
    "\n",
    "If no location metadata for an image is available, one way to infer the location is to detect and classify a discernible landmark in the image. Given the large number of landmarks across the world and the immense volume of images that are uploaded to photo sharing services, using human judgement to classify these landmarks would not be feasible.\n",
    "\n",
    "In this notebook, you will take the first steps towards addressing this problem by building models to automatically predict the location of the image based on any landmarks depicted in the image. At the end of this project, your code will accept any user-supplied image as input and suggest the top k most relevant landmarks from 50 possible landmarks from across the world. The image below displays a potential sample output of your finished project.\n",
    "\n",
    "![Sample landmark classification output](images/sample_landmark_output.png)\n",
    "\n",
    "\n",
    "### The Road Ahead\n",
    "\n",
    "We break the notebook into separate steps.  Feel free to use the links below to navigate the notebook.\n",
    "\n",
    "* [Step 0](#step0): Download Datasets and Install Python Modules\n",
    "* [Step 1](#step1): Create a CNN to Classify Landmarks (from Scratch)\n",
    "* [Step 2](#step2): Create a CNN to Classify Landmarks (using Transfer Learning)\n",
    "* [Step 3](#step3): Write Your Landmark Prediction Algorithm\n",
    "\n",
    "---\n",
    "<a id='step0'></a>\n",
    "## Step 0: Download Datasets and Install Python Modules\n",
    "\n",
    "**Note: if you are using the Udacity workspace, *YOU CAN SKIP THIS STEP*. The dataset can be found in the `/data` folder and all required Python modules have been installed in the workspace.**\n",
    "\n",
    "Download the [landmark dataset](https://udacity-dlnfd.s3-us-west-1.amazonaws.com/datasets/landmark_images.zip).\n",
    "Unzip the folder and place it in this project's home directory, at the location `/landmark_images`.\n",
    "\n",
    "Install the following Python modules:\n",
    "* cv2\n",
    "* matplotlib\n",
    "* numpy\n",
    "* PIL\n",
    "* torch\n",
    "* torchvision"
   ]
  },
  {
   "cell_type": "markdown",
   "metadata": {},
   "source": [
    "---\n",
    "\n",
    "<a id='step1'></a>\n",
    "## Step 1: Create a CNN to Classify Landmarks (from Scratch)\n",
    "\n",
    "In this step, you will create a CNN that classifies landmarks.  You must create your CNN _from scratch_ (so, you can't use transfer learning _yet_!), and you must attain a test accuracy of at least 20%.\n",
    "\n",
    "Although 20% may seem low at first glance, it seems more reasonable after realizing how difficult of a problem this is. Many times, an image that is taken at a landmark captures a fairly mundane image of an animal or plant, like in the following picture.\n",
    "\n",
    "<img src=\"images/train/00.Haleakala_National_Park/084c2aa50d0a9249.jpg\" alt=\"Bird in Haleakalā National Park\" style=\"width: 400px;\"/>\n",
    "\n",
    "Just by looking at that image alone, would you have been able to guess that it was taken at the Haleakalā National Park in Hawaii?\n",
    "\n",
    "An accuracy of 20% is significantly better than random guessing, which would provide an accuracy of just 2%. In Step 2 of this notebook, you will have the opportunity to greatly improve accuracy by using transfer learning to create a CNN.\n",
    "\n",
    "Remember that practice is far ahead of theory in deep learning.  Experiment with many different architectures, and trust your intuition.  And, of course, have fun!"
   ]
  },
  {
   "cell_type": "markdown",
   "metadata": {},
   "source": [
    "### (IMPLEMENTATION) Specify Data Loaders for the Landmark Dataset\n",
    "\n",
    "Use the code cell below to create three separate [data loaders](http://pytorch.org/docs/stable/data.html#torch.utils.data.DataLoader): one for training data, one for validation data, and one for test data. Randomly split the images located at `landmark_images/train` to create the train and validation data loaders, and use the images located at `landmark_images/test` to create the test data loader.\n",
    "\n",
    "All three of your data loaders should be accessible via a dictionary named `loaders_scratch`. Your train data loader should be at `loaders_scratch['train']`, your validation data loader should be at `loaders_scratch['valid']`, and your test data loader should be at `loaders_scratch['test']`.\n",
    "\n",
    "You may find [this documentation on custom datasets](https://pytorch.org/docs/stable/torchvision/datasets.html#datasetfolder) to be a useful resource.  If you are interested in augmenting your training and/or validation data, check out the wide variety of [transforms](http://pytorch.org/docs/stable/torchvision/transforms.html?highlight=transform)!"
   ]
  },
  {
   "cell_type": "code",
   "execution_count": 1,
   "metadata": {},
   "outputs": [],
   "source": [
    "import os\n",
    "import torch\n",
    "import numpy as np\n",
    "from torch.utils.data import DataLoader\n",
    "import torchvision.transforms as transforms #toTensor is the function you want to use\n",
    "from torch.utils.data.sampler import SubsetRandomSampler\n",
    "\n",
    "# where are images location\n",
    "img_dir = \"./landmark_images\""
   ]
  },
  {
   "cell_type": "markdown",
   "metadata": {},
   "source": [
    "## Catalogize images using custom ImageCollection\n",
    "\n",
    "Key step in creating dataset and data loader.  Crawls through images to get image path and label data for all images that are part of the training and test datasets.  I use the absolute file path of the image as the id of the image.  The folders that the image is in, define the labels, so I just get the basename of the directory that the image is in, and store that as the label for the image.  It also creates the indices for the images and labels."
   ]
  },
  {
   "cell_type": "code",
   "execution_count": 2,
   "metadata": {},
   "outputs": [
    {
     "name": "stdout",
     "output_type": "stream",
     "text": [
      "train is a sub directory in the image directory?: True\n",
      "test is a sub directory in the image directory?: True\n",
      "Bad file: ./landmark_images/train/.DS_Store\n",
      "Bad file: ./landmark_images/train/.DS_Store\n",
      "Bad file: ./landmark_images/train/.DS_Store\n",
      "Bad file: ./landmark_images/train/.DS_Store\n",
      "Bad file: ./landmark_images/train/.DS_Store\n",
      "Bad file: ./landmark_images/train/.DS_Store\n",
      "Bad file: ./landmark_images/train/.DS_Store\n",
      "Bad file: ./landmark_images/train/.DS_Store\n",
      "Bad file: ./landmark_images/train/.DS_Store\n",
      "Bad file: ./landmark_images/train/.DS_Store\n",
      "Bad file: ./landmark_images/train/.DS_Store\n",
      "Bad file: ./landmark_images/train/.DS_Store\n",
      "Bad file: ./landmark_images/train/.DS_Store\n",
      "Bad file: ./landmark_images/train/.DS_Store\n",
      "Bad file: ./landmark_images/train/.DS_Store\n",
      "Bad file: ./landmark_images/train/.DS_Store\n",
      "Bad file: ./landmark_images/train/.DS_Store\n",
      "Bad file: ./landmark_images/train/.DS_Store\n",
      "Bad file: ./landmark_images/train/.DS_Store\n",
      "Bad file: ./landmark_images/train/.DS_Store\n",
      "Bad file: ./landmark_images/train/.DS_Store\n",
      "Bad file: ./landmark_images/train/.DS_Store\n",
      "Bad file: ./landmark_images/train/.DS_Store\n",
      "Indicies for train are: (0, 217399)\n",
      "Indicies for test are: (217400, 270549)\n"
     ]
    }
   ],
   "source": [
    "from image_data_utils import ImageCollection\n",
    "\n",
    "ic = ImageCollection(img_dir)"
   ]
  },
  {
   "cell_type": "markdown",
   "metadata": {},
   "source": [
    "Below, I am testing the indexing of the ImageCollection to make sure the train and test images indices are not overlapping."
   ]
  },
  {
   "cell_type": "code",
   "execution_count": 3,
   "metadata": {},
   "outputs": [
    {
     "name": "stdout",
     "output_type": "stream",
     "text": [
      "train: indicies (0, 217399)\n",
      "test: indicies (217400, 270549)\n"
     ]
    }
   ],
   "source": [
    "folders = ['train','test']\n",
    "for folder in folders:\n",
    "    val = ic.get_folder_img_index_range(folder)\n",
    "    print(f\"{folder}: indicies {val}\")"
   ]
  },
  {
   "cell_type": "markdown",
   "metadata": {},
   "source": [
    "### OS WALK\n",
    "\n",
    "In this section I am explore the os.walk function.  This was a precursor exploration so I could implement the ImageCollection class. \n",
    "\n",
    "Evauation:\n",
    " \n",
    " Each directory rooted at directory, yields 3-tuples, i.e., (dirpath, dirnames, filenames). Evaluating this for the Custom image class that I developed\n",
    "\n",
    " **Note: You do not need to run this section**"
   ]
  },
  {
   "cell_type": "code",
   "execution_count": null,
   "metadata": {},
   "outputs": [],
   "source": [
    "directories = os.walk(img_dir+'/train')\n",
    "structure = next(directories)\n",
    "\n",
    "print(structure[1])"
   ]
  },
  {
   "cell_type": "code",
   "execution_count": null,
   "metadata": {},
   "outputs": [],
   "source": [
    "structure = next(directories)\n",
    "print(structure)"
   ]
  },
  {
   "cell_type": "markdown",
   "metadata": {},
   "source": [
    "## Loading Data\n",
    "\n",
    "1. Transform data.  Great Reference for possible transformation: https://pytorch.org/vision/main/auto_examples/plot_transforms.html?highlight=transforms\n",
    "2. Create the data loader\n",
    "3. Create the train, validation, and test data sets"
   ]
  },
  {
   "cell_type": "markdown",
   "metadata": {},
   "source": [
    "I am finding understanding the image format that each transform expects is key to avoiding errors. So format expect PIL format others expect Tensor format."
   ]
  },
  {
   "cell_type": "code",
   "execution_count": 4,
   "metadata": {},
   "outputs": [],
   "source": [
    "### TODO: Specify appropriate transforms, and batch_sizes\n",
    "## Reference: mnist_mlp_exercise.ipynb\n",
    "# How are you going to standardize the images\n",
    "\n",
    "\n",
    "# Desired Transform - This does not work\n",
    "# convert data to a normalized torch.FloatTensor\n",
    "transform = transforms.Compose([\n",
    "    transforms.ToPILImage(), # This is needed for the ColorJitter\n",
    "    transforms.FiveCrop(size=(100,100)), # crops the given image into four corners and the central crop\n",
    "    transforms.ColorJitter(brightness=.5,hue=.3,contrast=.5,saturation=.2),\n",
    "    transforms.RandomRotation(degrees=(0,180)), #randomly rotate between 0 and 180 degrees\n",
    "    transforms.ToTensor(),\n",
    "    transforms.Normalize((0.5, 0.5, 0.5), (0.5, 0.5, 0.5))\n",
    "    ])\n",
    "\n",
    "# Simplified transform - This works\n",
    "transform_img = transforms.Compose([\n",
    "    transforms.ToPILImage(),\n",
    "    transforms.Resize(256),\n",
    "    transforms.CenterCrop(224),\n",
    "    transforms.RandomRotation(degrees=(0,180)), #randomly rotate between 0 and 180 degrees\n",
    "    transforms.ToTensor(),\n",
    "    transforms.Normalize((0.5, 0.5, 0.5), (0.5, 0.5, 0.5))\n",
    "    ])"
   ]
  },
  {
   "cell_type": "code",
   "execution_count": 5,
   "metadata": {},
   "outputs": [],
   "source": [
    "data = ic.generate_train_valid_dataset(transform=transform_img)\n",
    "test_data = ic.generate_test_dataset(transform=transform_img)"
   ]
  },
  {
   "cell_type": "markdown",
   "metadata": {},
   "source": [
    "## Create Data Loaders\n",
    "\n",
    "DataLoader is an iterable that allows us to retrieve samples of a certain size (they call it mini batches). The sample are randomly selected from the data source you select. "
   ]
  },
  {
   "cell_type": "markdown",
   "metadata": {},
   "source": [
    "The Dataset retrieves our dataset’s features and labels one sample at a time. While training a model, we typically want to pass samples in “minibatches”, reshuffle the data at every epoch to reduce model overfitting, and use Python’s multiprocessing to speed up data retrieval.\n",
    "\n",
    "DataLoader is an iterable that abstracts this complexity for us in an easy API."
   ]
  },
  {
   "cell_type": "code",
   "execution_count": 6,
   "metadata": {},
   "outputs": [],
   "source": [
    "### TODO: Write data loaders for training, validation, and test sets\n",
    "\n",
    "# number of subprocesses to use for data loading\n",
    "num_workers = 0\n",
    "# how many samples per batch to load\n",
    "batch_size = 20 #64\n",
    "# percentage of training set to use as validation\n",
    "valid_size = 0.2\n",
    "\n",
    "\"\"\"DataLoader wraps an iterable around the Dataset to enable easy access to the samples.\"\"\"\n",
    "train_loader = torch.utils.data.DataLoader(\n",
    "    data['train'],\n",
    "    batch_size = batch_size,\n",
    "    num_workers = num_workers\n",
    ")\n",
    "\n",
    "valid_loader = torch.utils.data.DataLoader(\n",
    "    data['validation'],\n",
    "    batch_size = batch_size,\n",
    "    num_workers = num_workers\n",
    ")\n",
    "\n",
    "test_loader = torch.utils.data.DataLoader(test_data, batch_size=batch_size, \n",
    "    num_workers=num_workers)"
   ]
  },
  {
   "cell_type": "code",
   "execution_count": 7,
   "metadata": {},
   "outputs": [],
   "source": [
    "# Final dataset\n",
    "loaders_scratch = {\n",
    "    'train': train_loader, \n",
    "    'valid': valid_loader, \n",
    "    'test': test_loader\n",
    "}"
   ]
  },
  {
   "cell_type": "markdown",
   "metadata": {},
   "source": [
    "**Question 1:** Describe your chosen procedure for preprocessing the data. \n",
    "- How does your code resize the images (by cropping, stretching, etc)?  What size did you pick for the input tensor, and why?\n",
    "- Did you decide to augment the dataset?  If so, how (through translations, flips, rotations, etc)?  If not, why not?"
   ]
  },
  {
   "cell_type": "markdown",
   "metadata": {},
   "source": [
    "**Answer**: \n",
    "\n",
    "In terms of my transformation, I randomly reviewed the train data and based on what I saw, I decided to augmented my data by adding some variation through random rotations and color jitter. I thought color was important for identifying locations, but based on the quality of the camera and/or time of day the picture was taken the color could vary. Through exploration of the photos, I also saw a few rotations and translations so I added the RandomRotation transformation. I chose these transformation so that my architecture could also learn from orientation changes and color changes. \n",
    "\n",
    "To standardize my images I did a FiveCrop transformation which crops the given image into four corners and the central crop. The size of each crop is 100x100. I did the FiveCrop transformation because I noticed the differences in the distance in which the picture was captured, and it allowed me to standardizes the pieces of the picture captured.  Additionally, the images were not all the same size, so I wanted to make sure I captured the same amount of information regardless of the original size of the photo. \n",
    "\n",
    "Finally, I converted the image into a tensor and normalized that tensor so that my data was standardized.   "
   ]
  },
  {
   "cell_type": "markdown",
   "metadata": {},
   "source": [
    "### (IMPLEMENTATION) Visualize a Batch of Training Data\n",
    "\n",
    "Use the code cell below to retrieve a batch of images from your train data loader, display at least 5 images simultaneously, and label each displayed image with its class name (e.g., \"Golden Gate Bridge\").\n",
    "\n",
    "Visualizing the output of your data loader is a great way to ensure that your data loading and preprocessing are working as expected."
   ]
  },
  {
   "cell_type": "code",
   "execution_count": 13,
   "metadata": {},
   "outputs": [
    {
     "name": "stderr",
     "output_type": "stream",
     "text": [
      "Clipping input data to the valid range for imshow with RGB data ([0..1] for floats or [0..255] for integers).\n"
     ]
    },
    {
     "name": "stdout",
     "output_type": "stream",
     "text": [
      "Feature batch shape: <class 'numpy.ndarray'>\n",
      "Labels batch shape: <class 'tuple'>\n",
      "Tuple Values: ('Vienna_City_Hall', 'Taj_Mahal', 'Haleakala_National_Park', 'Haleakala_National_Park', 'Death_Valley_National_Park', 'Stonehenge', 'Machu_Picchu', 'Terminal_Tower', 'Prague_Astronomical_Clock', 'Golden_Gate_Bridge', 'Externsteine', 'Pont_du_Gard', 'Temple_of_Olympian_Zeus', 'Trevi_Fountain', 'Petronas_Towers', 'Temple_of_Heaven', 'Petronas_Towers', 'Mount_Rushmore_National_Memorial', 'Golden_Gate_Bridge', 'Edinburgh_Castle')\n",
      "Original Shape: (3, 224, 224)\n",
      "Label: Vienna_City_Hall\n",
      "Transposed Shape: (224, 224, 3)\n"
     ]
    },
    {
     "data": {
      "image/png": "[encoded data removed]",
      "text/plain": [
       "<Figure size 432x288 with 1 Axes>"
      ]
     },
     "metadata": {
      "needs_background": "light"
     },
     "output_type": "display_data"
    }
   ],
   "source": [
    "import matplotlib.pyplot as plt\n",
    "%matplotlib inline\n",
    "\n",
    "## TODO: visualize a batch of the train data loader\n",
    "\n",
    "# obtain one batch of training images\n",
    "train_images, train_labels = next(iter(train_loader)) # get the next batch of images\n",
    "train_images = train_images.numpy()  # convert images from tensor to numpy for display\n",
    "\n",
    "print(f\"Feature batch shape: {type(train_images)}\")\n",
    "print(f\"Labels batch shape: {type(train_labels)}\")\n",
    "print(f\"Tuple Values: {train_labels}\")\n",
    "\n",
    "# Test 1 image\n",
    "img = (train_images[0])\n",
    "print(f\"Original Shape: {img.shape}\")\n",
    "label = train_labels[0]\n",
    "#plt.imshow(img, cmap=\"gray\") # Crashes here\n",
    "\n",
    "print(f\"Label: {label}\")\n",
    "img = np.transpose(img,(2,1,0)) #Why do I need to transpose?\n",
    "print(f\"Transposed Shape: {img.shape}\")\n",
    "plt.imshow(img)\n",
    "plt.show()\n"
   ]
  },
  {
   "cell_type": "code",
   "execution_count": null,
   "metadata": {},
   "outputs": [],
   "source": [
    "\n",
    "num_images = 6\n",
    "num_columns = 2\n",
    "## the class names can be accessed at the `classes` attribute\n",
    "## of your dataset object (e.g., `train_dataset.classes`)\n",
    "\n",
    "# plot the images in the batch, along with the corresponding labels\n",
    "fig = plt.figure(figsize=(600, 600)) # Canvas size of the figure\n",
    "for idx in np.arange(num_images):\n",
    "    ax = fig.add_subplot(\n",
    "            np.floor(num_images%num_columns), \n",
    "            num_columns, \n",
    "            idx+1, \n",
    "            xticks=[], \n",
    "            yticks=[]\n",
    "        )\n",
    "    ax.imshow(np.squeeze(train_images[idx]))\n",
    "    # print out the correct label for each image\n",
    "    # .item() gets the value contained in a Tensor\n",
    "    ax.set_title(str(train_labels[idx].item()))"
   ]
  },
  {
   "cell_type": "code",
   "execution_count": null,
   "metadata": {},
   "outputs": [],
   "source": [
    "\n",
    "num_images = 6\n",
    "num_columns = 2\n",
    "## the class names can be accessed at the `classes` attribute\n",
    "## of your dataset object (e.g., `train_dataset.classes`)\n",
    "\n",
    "# plot the images in the batch, along with the corresponding labels\n",
    "fig = plt.figure(figsize=(600, 600)) # Canvas size of the figure\n",
    "for idx in np.arange(num_images):\n",
    "    ax = fig.add_subplot(\n",
    "            np.floor(num_images%num_columns), \n",
    "            num_columns, \n",
    "            idx+1, \n",
    "            xticks=[], \n",
    "            yticks=[]\n",
    "        )\n",
    "    ax.imshow(np.squeeze(images[idx]))\n",
    "    # print out the correct label for each image\n",
    "    # .item() gets the value contained in a Tensor\n",
    "    ax.set_title(str(labels[idx].item()))"
   ]
  },
  {
   "cell_type": "markdown",
   "metadata": {},
   "source": [
    "### Initialize use_cuda variable"
   ]
  },
  {
   "cell_type": "code",
   "execution_count": null,
   "metadata": {},
   "outputs": [],
   "source": [
    "# useful variable that tells us whether we should use the GPU\n",
    "train_on_gpu = torch.cuda.is_available()\n",
    "if not train_on_gpu:\n",
    "    print('CUDA is not available.  Training on CPU ...')\n",
    "else:\n",
    "    print('CUDA is available!  Training on GPU ...')"
   ]
  },
  {
   "cell_type": "markdown",
   "metadata": {},
   "source": [
    "### (IMPLEMENTATION) Specify Loss Function and Optimizer\n",
    "\n",
    "Use the next code cell to specify a [loss function](http://pytorch.org/docs/stable/nn.html#loss-functions) and [optimizer](http://pytorch.org/docs/stable/optim.html).  Save the chosen loss function as `criterion_scratch`, and fill in the function `get_optimizer_scratch` below."
   ]
  },
  {
   "cell_type": "code",
   "execution_count": null,
   "metadata": {},
   "outputs": [],
   "source": [
    "from torchvision import datasets\n",
    "import torchvision.transforms as transforms\n",
    "from torch.utils.data.sampler import SubsetRandomSampler"
   ]
  },
  {
   "cell_type": "code",
   "execution_count": null,
   "metadata": {},
   "outputs": [],
   "source": [
    "## TODO: select loss function\n",
    "criterion_scratch = None\n",
    "\n",
    "def get_optimizer_scratch(model):\n",
    "    ## TODO: select and return an optimizer\n",
    "    pass\n",
    "    "
   ]
  },
  {
   "cell_type": "markdown",
   "metadata": {},
   "source": [
    "### (IMPLEMENTATION) Model Architecture\n",
    "\n",
    "Create a CNN to classify images of landmarks.  Use the template in the code cell below."
   ]
  },
  {
   "cell_type": "code",
   "execution_count": null,
   "metadata": {},
   "outputs": [],
   "source": [
    "import torch.nn as nn\n",
    "import torch.nn.functional as F\n",
    "from collections import OrderedDict\n",
    "\n",
    "# define the CNN architecture\n",
    "class Net(nn.Module):\n",
    "    ## TODO: choose an architecture, and complete the class\n",
    "    def __init__(self):\n",
    "        super(Net, self).__init__()\n",
    "        \n",
    "        ## Define layers of a CNN\n",
    "        self.features = nn.Sequential(\n",
    "            OrderedDict(\n",
    "                [\n",
    "\n",
    "                ]\n",
    "            )\n",
    "        )\n",
    "\n",
    "        self.model = nn.Sequential(\n",
    "            OrderedDict(\n",
    "                [\n",
    "                    \n",
    "                ]\n",
    "            )\n",
    "        )        \n",
    "        \n",
    "    \n",
    "    def forward(self, x):\n",
    "        ## Define forward behavior\n",
    "\n",
    "        \n",
    "        \n",
    "        \n",
    "        return x\n",
    "\n",
    "#-#-# Do NOT modify the code below this line. #-#-#\n",
    "\n",
    "# instantiate the CNN\n",
    "model_scratch = Net()\n",
    "\n",
    "# move tensors to GPU if CUDA is available\n",
    "if use_cuda:\n",
    "    model_scratch.cuda()"
   ]
  },
  {
   "cell_type": "markdown",
   "metadata": {},
   "source": [
    "__Question 2:__ Outline the steps you took to get to your final CNN architecture and your reasoning at each step.  "
   ]
  },
  {
   "cell_type": "markdown",
   "metadata": {},
   "source": [
    "__Answer:__  "
   ]
  },
  {
   "cell_type": "markdown",
   "metadata": {},
   "source": [
    "### (IMPLEMENTATION) Implement the Training Algorithm\n",
    "\n",
    "Implement your training algorithm in the code cell below.  [Save the final model parameters](http://pytorch.org/docs/master/notes/serialization.html) at the filepath stored in the variable `save_path`."
   ]
  },
  {
   "cell_type": "code",
   "execution_count": null,
   "metadata": {},
   "outputs": [],
   "source": [
    "def train(n_epochs, loaders, model, optimizer, criterion, use_cuda, save_path):\n",
    "    \"\"\"returns trained model\"\"\"\n",
    "    # initialize tracker for minimum validation loss\n",
    "    valid_loss_min = np.Inf \n",
    "    \n",
    "    for epoch in range(1, n_epochs+1):\n",
    "        # initialize variables to monitor training and validation loss\n",
    "        train_loss = 0.0\n",
    "        valid_loss = 0.0\n",
    "        \n",
    "        ###################\n",
    "        # train the model #\n",
    "        ###################\n",
    "        # set the module to training mode\n",
    "        model.train()\n",
    "        for batch_idx, (data, target) in enumerate(loaders['train']):\n",
    "            # move to GPU\n",
    "            if use_cuda:\n",
    "                data, target = data.cuda(), target.cuda()\n",
    "\n",
    "            ## TODO: find the loss and update the model parameters accordingly\n",
    "            ## record the average training loss, using something like\n",
    "            ## train_loss = train_loss + ((1 / (batch_idx + 1)) * (loss.data.item() - train_loss))\n",
    "\n",
    "\n",
    "            \n",
    "            \n",
    "\n",
    "        ######################    \n",
    "        # validate the model #\n",
    "        ######################\n",
    "        # set the model to evaluation mode\n",
    "        model.eval()\n",
    "        for batch_idx, (data, target) in enumerate(loaders['valid']):\n",
    "            # move to GPU\n",
    "            if use_cuda:\n",
    "                data, target = data.cuda(), target.cuda()\n",
    "\n",
    "            ## TODO: update average validation loss \n",
    "\n",
    "\n",
    "            \n",
    "            \n",
    "\n",
    "        # print training/validation statistics \n",
    "        print('Epoch: {} \\tTraining Loss: {:.6f} \\tValidation Loss: {:.6f}'.format(\n",
    "            epoch, \n",
    "            train_loss,\n",
    "            valid_loss\n",
    "            ))\n",
    "\n",
    "        ## TODO: if the validation loss has decreased, save the model at the filepath stored in save_path\n",
    "        \n",
    "\n",
    "        \n",
    "        \n",
    "    return model"
   ]
  },
  {
   "cell_type": "markdown",
   "metadata": {},
   "source": [
    "### (IMPLEMENTATION) Experiment with the Weight Initialization\n",
    "\n",
    "Use the code cell below to define a custom weight initialization, and then train with your weight initialization for a few epochs. Make sure that neither the training loss nor validation loss is `nan`.\n",
    "\n",
    "Later on, you will be able to see how this compares to training with PyTorch's default weight initialization."
   ]
  },
  {
   "cell_type": "code",
   "execution_count": null,
   "metadata": {},
   "outputs": [],
   "source": [
    "def custom_weight_init(m):\n",
    "    ## TODO: implement a weight initialization strategy\n",
    "    pass\n",
    "    \n",
    "    \n",
    "\n",
    "#-#-# Do NOT modify the code below this line. #-#-#\n",
    "    \n",
    "model_scratch.apply(custom_weight_init)\n",
    "model_scratch = train(20, loaders_scratch, model_scratch, get_optimizer_scratch(model_scratch),\n",
    "                      criterion_scratch, use_cuda, 'ignore.pt')"
   ]
  },
  {
   "cell_type": "markdown",
   "metadata": {},
   "source": [
    "### (IMPLEMENTATION) Train and Validate the Model\n",
    "\n",
    "Run the next code cell to train your model."
   ]
  },
  {
   "cell_type": "code",
   "execution_count": null,
   "metadata": {},
   "outputs": [],
   "source": [
    "## TODO: you may change the number of epochs if you'd like,\n",
    "## but changing it is not required\n",
    "num_epochs = 100\n",
    "\n",
    "#-#-# Do NOT modify the code below this line. #-#-#\n",
    "\n",
    "# function to re-initialize a model with pytorch's default weight initialization\n",
    "def default_weight_init(m):\n",
    "    reset_parameters = getattr(m, 'reset_parameters', None)\n",
    "    if callable(reset_parameters):\n",
    "        m.reset_parameters()\n",
    "\n",
    "# reset the model parameters\n",
    "model_scratch.apply(default_weight_init)\n",
    "\n",
    "# train the model\n",
    "model_scratch = train(num_epochs, loaders_scratch, model_scratch, get_optimizer_scratch(model_scratch), \n",
    "                      criterion_scratch, use_cuda, 'model_scratch.pt')"
   ]
  },
  {
   "cell_type": "markdown",
   "metadata": {},
   "source": [
    "### (IMPLEMENTATION) Test the Model\n",
    "\n",
    "Run the code cell below to try out your model on the test dataset of landmark images. Run the code cell below to calculate and print the test loss and accuracy.  Ensure that your test accuracy is greater than 20%."
   ]
  },
  {
   "cell_type": "code",
   "execution_count": null,
   "metadata": {},
   "outputs": [],
   "source": [
    "def test(loaders, model, criterion, use_cuda):\n",
    "\n",
    "    # monitor test loss and accuracy\n",
    "    test_loss = 0.\n",
    "    correct = 0.\n",
    "    total = 0.\n",
    "\n",
    "    # set the module to evaluation mode\n",
    "    model.eval()\n",
    "\n",
    "    for batch_idx, (data, target) in enumerate(loaders['test']):\n",
    "        # move to GPU\n",
    "        if use_cuda:\n",
    "            data, target = data.cuda(), target.cuda()\n",
    "        # forward pass: compute predicted outputs by passing inputs to the model\n",
    "        output = model(data)\n",
    "        # calculate the loss\n",
    "        loss = criterion(output, target)\n",
    "        # update average test loss \n",
    "        test_loss = test_loss + ((1 / (batch_idx + 1)) * (loss.data.item() - test_loss))\n",
    "        # convert output probabilities to predicted class\n",
    "        pred = output.data.max(1, keepdim=True)[1]\n",
    "        # compare predictions to true label\n",
    "        correct += np.sum(np.squeeze(pred.eq(target.data.view_as(pred))).cpu().numpy())\n",
    "        total += data.size(0)\n",
    "            \n",
    "    print('Test Loss: {:.6f}\\n'.format(test_loss))\n",
    "\n",
    "    print('\\nTest Accuracy: %2d%% (%2d/%2d)' % (\n",
    "        100. * correct / total, correct, total))\n",
    "\n",
    "# load the model that got the best validation accuracy\n",
    "model_scratch.load_state_dict(torch.load('model_scratch.pt'))\n",
    "test(loaders_scratch, model_scratch, criterion_scratch, use_cuda)"
   ]
  },
  {
   "cell_type": "markdown",
   "metadata": {},
   "source": [
    "---\n",
    "<a id='step2'></a>\n",
    "## Step 2: Create a CNN to Classify Landmarks (using Transfer Learning)\n",
    "\n",
    "You will now use transfer learning to create a CNN that can identify landmarks from images.  Your CNN must attain at least 60% accuracy on the test set.\n",
    "\n",
    "### (IMPLEMENTATION) Specify Data Loaders for the Landmark Dataset\n",
    "\n",
    "Use the code cell below to create three separate [data loaders](http://pytorch.org/docs/stable/data.html#torch.utils.data.DataLoader): one for training data, one for validation data, and one for test data. Randomly split the images located at `landmark_images/train` to create the train and validation data loaders, and use the images located at `landmark_images/test` to create the test data loader.\n",
    "\n",
    "All three of your data loaders should be accessible via a dictionary named `loaders_transfer`. Your train data loader should be at `loaders_transfer['train']`, your validation data loader should be at `loaders_transfer['valid']`, and your test data loader should be at `loaders_transfer['test']`.\n",
    "\n",
    "If you like, **you are welcome to use the same data loaders from the previous step**, when you created a CNN from scratch."
   ]
  },
  {
   "cell_type": "code",
   "execution_count": null,
   "metadata": {},
   "outputs": [],
   "source": [
    "### TODO: Write data loaders for training, validation, and test sets\n",
    "## Specify appropriate transforms, and batch_sizes\n",
    "\n",
    "loaders_transfer = {'train': None, 'valid': None, 'test': None}\n",
    "\n",
    "\n",
    "\n"
   ]
  },
  {
   "cell_type": "markdown",
   "metadata": {},
   "source": [
    "### (IMPLEMENTATION) Specify Loss Function and Optimizer\n",
    "\n",
    "Use the next code cell to specify a [loss function](http://pytorch.org/docs/stable/nn.html#loss-functions) and [optimizer](http://pytorch.org/docs/stable/optim.html).  Save the chosen loss function as `criterion_transfer`, and fill in the function `get_optimizer_transfer` below."
   ]
  },
  {
   "cell_type": "code",
   "execution_count": null,
   "metadata": {},
   "outputs": [],
   "source": [
    "## TODO: select loss function\n",
    "criterion_transfer = None\n",
    "\n",
    "\n",
    "def get_optimizer_transfer(model):\n",
    "    ## TODO: select and return optimizer\n",
    "    pass\n",
    "\n",
    "    \n",
    "    "
   ]
  },
  {
   "cell_type": "markdown",
   "metadata": {},
   "source": [
    "### (IMPLEMENTATION) Model Architecture\n",
    "\n",
    "Use transfer learning to create a CNN to classify images of landmarks.  Use the code cell below, and save your initialized model as the variable `model_transfer`."
   ]
  },
  {
   "cell_type": "code",
   "execution_count": null,
   "metadata": {},
   "outputs": [],
   "source": [
    "## TODO: Specify model architecture\n",
    "\n",
    "model_transfer = None\n",
    "\n",
    "\n",
    "\n",
    "\n",
    "#-#-# Do NOT modify the code below this line. #-#-#\n",
    "\n",
    "if use_cuda:\n",
    "    model_transfer = model_transfer.cuda()"
   ]
  },
  {
   "cell_type": "markdown",
   "metadata": {},
   "source": [
    "__Question 3:__ Outline the steps you took to get to your final CNN architecture and your reasoning at each step.  Describe why you think the architecture is suitable for the current problem."
   ]
  },
  {
   "cell_type": "markdown",
   "metadata": {},
   "source": [
    "__Answer:__  "
   ]
  },
  {
   "cell_type": "markdown",
   "metadata": {},
   "source": [
    "### (IMPLEMENTATION) Train and Validate the Model\n",
    "\n",
    "Train and validate your model in the code cell below.  [Save the final model parameters](http://pytorch.org/docs/master/notes/serialization.html) at filepath `'model_transfer.pt'`."
   ]
  },
  {
   "cell_type": "code",
   "execution_count": null,
   "metadata": {},
   "outputs": [],
   "source": [
    "# TODO: train the model and save the best model parameters at filepath 'model_transfer.pt'\n",
    "\n",
    "\n",
    "\n",
    "#-#-# Do NOT modify the code below this line. #-#-#\n",
    "\n",
    "# load the model that got the best validation accuracy\n",
    "model_transfer.load_state_dict(torch.load('model_transfer.pt'))"
   ]
  },
  {
   "cell_type": "markdown",
   "metadata": {},
   "source": [
    "### (IMPLEMENTATION) Test the Model\n",
    "\n",
    "Try out your model on the test dataset of landmark images. Use the code cell below to calculate and print the test loss and accuracy.  Ensure that your test accuracy is greater than 60%."
   ]
  },
  {
   "cell_type": "code",
   "execution_count": null,
   "metadata": {},
   "outputs": [],
   "source": [
    "test(loaders_transfer, model_transfer, criterion_transfer, use_cuda)"
   ]
  },
  {
   "cell_type": "markdown",
   "metadata": {},
   "source": [
    "---\n",
    "<a id='step3'></a>\n",
    "## Step 3: Write Your Landmark Prediction Algorithm\n",
    "\n",
    "Great job creating your CNN models! Now that you have put in all the hard work of creating accurate classifiers, let's define some functions to make it easy for others to use your classifiers.\n",
    "\n",
    "### (IMPLEMENTATION) Write Your Algorithm, Part 1\n",
    "\n",
    "Implement the function `predict_landmarks`, which accepts a file path to an image and an integer k, and then predicts the **top k most likely landmarks**. You are **required** to use your transfer learned CNN from Step 2 to predict the landmarks.\n",
    "\n",
    "An example of the expected behavior of `predict_landmarks`:\n",
    "```\n",
    ">>> predicted_landmarks = predict_landmarks('example_image.jpg', 3)\n",
    ">>> print(predicted_landmarks)\n",
    "['Golden Gate Bridge', 'Brooklyn Bridge', 'Sydney Harbour Bridge']\n",
    "```"
   ]
  },
  {
   "cell_type": "code",
   "execution_count": null,
   "metadata": {},
   "outputs": [],
   "source": [
    "import cv2\n",
    "from PIL import Image\n",
    "\n",
    "## the class names can be accessed at the `classes` attribute\n",
    "## of your dataset object (e.g., `train_dataset.classes`)\n",
    "\n",
    "def predict_landmarks(img_path, k):\n",
    "    ## TODO: return the names of the top k landmarks predicted by the transfer learned CNN\n",
    "    pass\n",
    "\n",
    "\n",
    "# test on a sample image\n",
    "predict_landmarks('images/test/09.Golden_Gate_Bridge/190f3bae17c32c37.jpg', 5)"
   ]
  },
  {
   "cell_type": "markdown",
   "metadata": {},
   "source": [
    "### (IMPLEMENTATION) Write Your Algorithm, Part 2\n",
    "\n",
    "In the code cell below, implement the function `suggest_locations`, which accepts a file path to an image as input, and then displays the image and the **top 3 most likely landmarks** as predicted by `predict_landmarks`.\n",
    "\n",
    "Some sample output for `suggest_locations` is provided below, but feel free to design your own user experience!\n",
    "![](images/sample_landmark_output.png)"
   ]
  },
  {
   "cell_type": "code",
   "execution_count": null,
   "metadata": {},
   "outputs": [],
   "source": [
    "def suggest_locations(img_path):\n",
    "    # get landmark predictions\n",
    "    predicted_landmarks = predict_landmarks(img_path, 3)\n",
    "    \n",
    "    ## TODO: display image and display landmark predictions\n",
    "\n",
    "    \n",
    "    \n",
    "\n",
    "# test on a sample image\n",
    "suggest_locations('images/test/09.Golden_Gate_Bridge/190f3bae17c32c37.jpg')"
   ]
  },
  {
   "cell_type": "markdown",
   "metadata": {},
   "source": [
    "### (IMPLEMENTATION) Test Your Algorithm\n",
    "\n",
    "Test your algorithm by running the `suggest_locations` function on at least four images on your computer. Feel free to use any images you like.\n",
    "\n",
    "__Question 4:__ Is the output better than you expected :) ?  Or worse :( ?  Provide at least three possible points of improvement for your algorithm."
   ]
  },
  {
   "cell_type": "markdown",
   "metadata": {},
   "source": [
    "__Answer:__ (Three possible points for improvement)"
   ]
  },
  {
   "cell_type": "code",
   "execution_count": null,
   "metadata": {},
   "outputs": [],
   "source": [
    "## TODO: Execute the `suggest_locations` function on\n",
    "## at least 4 images on your computer.\n",
    "## Feel free to use as many code cells as needed.\n",
    "\n"
   ]
  }
 ],
 "metadata": {
  "interpreter": {
   "hash": "4061e57de1d8b11f2cd45f7218e57666da4f87ba54141e1de4a56f7115a6c500"
  },
  "kernelspec": {
   "display_name": "Python 3.8.5 64-bit ('machine_learning')",
   "language": "python",
   "name": "python3"
  },
  "language_info": {
   "codemirror_mode": {
    "name": "ipython",
    "version": 3
   },
   "file_extension": ".py",
   "mimetype": "text/x-python",
   "name": "python",
   "nbconvert_exporter": "python",
   "pygments_lexer": "ipython3",
   "version": "3.8.5"
  }
 },
 "nbformat": 4,
 "nbformat_minor": 2
}
