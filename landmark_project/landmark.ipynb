{
 "cells": [
  {
   "cell_type": "markdown",
   "metadata": {},
   "source": [
    "# Convolutional Neural Networks\n",
    "\n",
    "## Project: Write an Algorithm for Landmark Classification\n",
    "\n",
    "---\n",
    "\n",
    "In this notebook, some template code has already been provided for you, and you will need to implement additional functionality to successfully complete this project. You will not need to modify the included code beyond what is requested. Sections that begin with **'(IMPLEMENTATION)'** in the header indicate that the following block of code will require additional functionality which you must provide. Instructions will be provided for each section, and the specifics of the implementation are marked in the code block with a 'TODO' statement. Please be sure to read the instructions carefully! \n",
    "\n",
    "> **Note**: Once you have completed all the code implementations, you need to finalize your work by exporting the Jupyter Notebook as an HTML document. Before exporting the notebook to HTML, all the code cells need to have been run so that reviewers can see the final implementation and output. You can then export the notebook by using the menu above and navigating to **File -> Download as -> HTML (.html)**. Include the finished document along with this notebook as your submission.\n",
    "\n",
    "In addition to implementing code, there will be questions that you must answer which relate to the project and your implementation. Each section where you will answer a question is preceded by a **'Question X'** header. Carefully read each question and provide thorough answers in the following text boxes that begin with **'Answer:'**. Your project submission will be evaluated based on your answers to each of the questions and the implementation you provide.\n",
    "\n",
    ">**Note:** Code and Markdown cells can be executed using the **Shift + Enter** keyboard shortcut.  Markdown cells can be edited by double-clicking the cell to enter edit mode.\n",
    "\n",
    "The rubric contains _optional_ \"Stand Out Suggestions\" for enhancing the project beyond the minimum requirements. If you decide to pursue the \"Stand Out Suggestions\", you should include the code in this Jupyter notebook.\n",
    "\n",
    "---\n",
    "### Why We're Here\n",
    "\n",
    "Photo sharing and photo storage services like to have location data for each photo that is uploaded. With the location data, these services can build advanced features, such as automatic suggestion of relevant tags or automatic photo organization, which help provide a compelling user experience. Although a photo's location can often be obtained by looking at the photo's metadata, many photos uploaded to these services will not have location metadata available. This can happen when, for example, the camera capturing the picture does not have GPS or if a photo's metadata is scrubbed due to privacy concerns.\n",
    "\n",
    "If no location metadata for an image is available, one way to infer the location is to detect and classify a discernible landmark in the image. Given the large number of landmarks across the world and the immense volume of images that are uploaded to photo sharing services, using human judgement to classify these landmarks would not be feasible.\n",
    "\n",
    "In this notebook, you will take the first steps towards addressing this problem by building models to automatically predict the location of the image based on any landmarks depicted in the image. At the end of this project, your code will accept any user-supplied image as input and suggest the top k most relevant landmarks from 50 possible landmarks from across the world. The image below displays a potential sample output of your finished project.\n",
    "\n",
    "![Sample landmark classification output](images/sample_landmark_output.png)\n",
    "\n",
    "\n",
    "### The Road Ahead\n",
    "\n",
    "We break the notebook into separate steps.  Feel free to use the links below to navigate the notebook.\n",
    "\n",
    "* [Step 0](#step0): Download Datasets and Install Python Modules\n",
    "* [Step 1](#step1): Create a CNN to Classify Landmarks (from Scratch)\n",
    "* [Step 2](#step2): Create a CNN to Classify Landmarks (using Transfer Learning)\n",
    "* [Step 3](#step3): Write Your Landmark Prediction Algorithm\n",
    "\n",
    "---\n",
    "<a id='step0'></a>\n",
    "## Step 0: Download Datasets and Install Python Modules\n",
    "\n",
    "**Note: if you are using the Udacity workspace, *YOU CAN SKIP THIS STEP*. The dataset can be found in the `/data` folder and all required Python modules have been installed in the workspace.**\n",
    "\n",
    "Download the [landmark dataset](https://udacity-dlnfd.s3-us-west-1.amazonaws.com/datasets/landmark_images.zip).\n",
    "Unzip the folder and place it in this project's home directory, at the location `/landmark_images`.\n",
    "\n",
    "Install the following Python modules:\n",
    "* cv2\n",
    "* matplotlib\n",
    "* numpy\n",
    "* PIL\n",
    "* torch\n",
    "* torchvision"
   ]
  },
  {
   "cell_type": "markdown",
   "metadata": {},
   "source": [
    "---\n",
    "\n",
    "<a id='step1'></a>\n",
    "## Step 1: Create a CNN to Classify Landmarks (from Scratch)\n",
    "\n",
    "In this step, you will create a CNN that classifies landmarks.  You must create your CNN _from scratch_ (so, you can't use transfer learning _yet_!), and you must attain a test accuracy of at least 20%.\n",
    "\n",
    "Although 20% may seem low at first glance, it seems more reasonable after realizing how difficult of a problem this is. Many times, an image that is taken at a landmark captures a fairly mundane image of an animal or plant, like in the following picture.\n",
    "\n",
    "<img src=\"images/train/00.Haleakala_National_Park/084c2aa50d0a9249.jpg\" alt=\"Bird in Haleakalā National Park\" style=\"width: 400px;\"/>\n",
    "\n",
    "Just by looking at that image alone, would you have been able to guess that it was taken at the Haleakalā National Park in Hawaii?\n",
    "\n",
    "An accuracy of 20% is significantly better than random guessing, which would provide an accuracy of just 2%. In Step 2 of this notebook, you will have the opportunity to greatly improve accuracy by using transfer learning to create a CNN.\n",
    "\n",
    "Remember that practice is far ahead of theory in deep learning.  Experiment with many different architectures, and trust your intuition.  And, of course, have fun!"
   ]
  },
  {
   "cell_type": "markdown",
   "metadata": {},
   "source": [
    "### (IMPLEMENTATION) Specify Data Loaders for the Landmark Dataset\n",
    "\n",
    "Use the code cell below to create three separate [data loaders](http://pytorch.org/docs/stable/data.html#torch.utils.data.DataLoader): one for training data, one for validation data, and one for test data. Randomly split the images located at `landmark_images/train` to create the train and validation data loaders, and use the images located at `landmark_images/test` to create the test data loader.\n",
    "\n",
    "All three of your data loaders should be accessible via a dictionary named `loaders_scratch`. Your train data loader should be at `loaders_scratch['train']`, your validation data loader should be at `loaders_scratch['valid']`, and your test data loader should be at `loaders_scratch['test']`.\n",
    "\n",
    "You may find [this documentation on custom datasets](https://pytorch.org/docs/stable/torchvision/datasets.html#datasetfolder) to be a useful resource.  If you are interested in augmenting your training and/or validation data, check out the wide variety of [transforms](http://pytorch.org/docs/stable/torchvision/transforms.html?highlight=transform)!"
   ]
  },
  {
   "cell_type": "code",
   "execution_count": null,
   "metadata": {},
   "outputs": [],
   "source": [
    "import os\n",
    "import torch\n",
    "import numpy as np\n",
    "from torch.utils.data import DataLoader, Subset\n",
    "import torchvision.transforms as transforms #toTensor is the function you want to use\n",
    "#from torchvision.transforms import Lambda\n",
    "from torchvision import datasets\n",
    "import torch.nn as nn\n",
    "import torch.nn.functional as F\n",
    "from collections import OrderedDict\n",
    "from PIL import Image"
   ]
  },
  {
   "cell_type": "code",
   "execution_count": null,
   "metadata": {},
   "outputs": [],
   "source": [
    "#img_dir = \"./project2-landmark/nd101-c2-landmarks-starter/landmark_project/landmark_images\"\n",
    "img_dir = \"./landmark_images\"\n",
    "\n",
    "num_workers = 4 # Final\n",
    "batch_size = 64 #  the number of data samples propagated through the network before the parameters are updated\n",
    "n_outputs = 50\n",
    "valid_size = 0.2 # percentage of training set to use as validation\n",
    "n_epochs = 100 #the number times to iterate over the dataset"
   ]
  },
  {
   "cell_type": "code",
   "execution_count": null,
   "metadata": {},
   "outputs": [],
   "source": [
    "def verify_image(\n",
    "            filename:str, \n",
    "            min_img_size_limit=(256,256),\n",
    "        )->bool:\n",
    "        \"\"\"_summary_\n",
    "\n",
    "        Args:\n",
    "            filename (str): the image file to open\n",
    "            check_image_variance (bool, optional): Set to True if you want to check if images\n",
    "            has little to no variance in pixel values. So if the picture is all black verify_image would\n",
    "            return False for that image. Defaults to False.\n",
    "\n",
    "        Returns:\n",
    "            bool: Returns true if the image checks all pass.\n",
    "        \"\"\"\n",
    "        try:\n",
    "            img = Image.open(filename) # open the image file\n",
    "            img.verify() # verify that it is, in fact an image without loading the image.  It errors if there is a probelem.\n",
    "            # check image has variance in data.\n",
    "            \n",
    "            width, height = img.size\n",
    "            if min_img_size_limit is not None:\n",
    "                if width < min_img_size_limit[0]:\n",
    "                    return(False)\n",
    "                elif height < min_img_size_limit[1]:\n",
    "                    return(False)            \n",
    "            img.close() #reload is necessary in my case\n",
    "            return(True)\n",
    "        except (IOError, SyntaxError) as e:\n",
    "            print(f'Bad file: {filename}. Error: {e}') # print out the names of corrupt files\n",
    "            return(False)"
   ]
  },
  {
   "cell_type": "code",
   "execution_count": null,
   "metadata": {},
   "outputs": [],
   "source": [
    "def get_transforms(n_outputs:int)->transforms.Compose:\n",
    "\n",
    "    # Simplified transform - This works\n",
    "    transform_img = transforms.Compose([\n",
    "        transforms.Resize((256,256)), #resize all image down to 256 X 256 pixels\n",
    "        transforms.ColorJitter(brightness=.1,hue=.1,contrast=.1,saturation=.1),\n",
    "        transforms.RandomRotation(degrees=15), #randomly rotate between 15 and -15 degrees\n",
    "        transforms.ToTensor(), # Convert image data to Tensor data type\n",
    "        transforms.Normalize((0.5, 0.5, 0.5), (0.5, 0.5, 0.5)) # Normalize the data to have a mean of .5 and standard deviation .5)\n",
    "        ])\n",
    "    \n",
    "    #one hot encoded tensor for label.  Assuming label is the numerical index of the label.\n",
    "    #Reference: https://pytorch.org/tutorials/beginner/basics/transforms_tutorial.html#lambda-transforms\n",
    "    #target_transform = Lambda(lambda y: torch.zeros(n_outputs, dtype=torch.float).scatter_(0, torch.tensor(y), value=1))\n",
    "    target_transform = None # Testing\n",
    "    return(transform_img, target_transform)"
   ]
  },
  {
   "cell_type": "code",
   "execution_count": null,
   "metadata": {},
   "outputs": [],
   "source": [
    "def create_dataset(\n",
    "        img_dir, \n",
    "        n_outputs, \n",
    "        batch_size:int,\n",
    "        num_workers:int,\n",
    "        shuffle:bool = True, \n",
    "        valid_size:float = 0.20\n",
    "    )->dict:\n",
    "    transform_img, target_transform = get_transforms(n_outputs)\n",
    "    img_dataset = datasets.ImageFolder(os.path.join(img_dir,'train'),transform=transform_img, target_transform=target_transform, is_valid_file=verify_image)\n",
    "    test_dataset = datasets.ImageFolder(os.path.join(img_dir,'test'),transform_img, target_transform, is_valid_file=verify_image)\n",
    "\n",
    "    indices = list(range(0,len(img_dataset)))\n",
    "    np.random.shuffle(indices)\n",
    "    num_train = len(indices)\n",
    "    split = int(np.floor(valid_size * num_train))\n",
    "    train_idx, valid_idx = indices[split:], indices[:split]\n",
    "\n",
    "    train_dataset = Subset(img_dataset, train_idx)\n",
    "    valid_dataset = Subset(img_dataset, valid_idx)\n",
    "\n",
    "    train_loader = DataLoader(train_dataset, batch_size=batch_size, num_workers=num_workers, shuffle=shuffle)\n",
    "    valid_loader = DataLoader(valid_dataset, batch_size=batch_size, num_workers=num_workers, shuffle=shuffle)\n",
    "    test_loader = DataLoader(test_dataset, batch_size=batch_size, num_workers=num_workers)\n",
    "\n",
    "    result = {\n",
    "        \"train\":train_loader,\n",
    "        \"valid\":valid_loader,\n",
    "        \"test\":test_loader\n",
    "    }\n",
    "    return result"
   ]
  },
  {
   "cell_type": "code",
   "execution_count": null,
   "metadata": {},
   "outputs": [],
   "source": [
    "### TODO: Write data loaders for training, validation, and test sets\n",
    "## Specify appropriate transforms, and batch_sizes\n",
    "\n",
    "loaders_scratch = create_dataset(img_dir=img_dir, n_outputs=n_outputs, batch_size=batch_size, num_workers=num_workers, valid_size=valid_size)"
   ]
  },
  {
   "cell_type": "markdown",
   "metadata": {},
   "source": [
    "**Question 1:** Describe your chosen procedure for preprocessing the data. \n",
    "- How does your code resize the images (by cropping, stretching, etc)?  What size did you pick for the input tensor, and why?\n",
    "- Did you decide to augment the dataset?  If so, how (through translations, flips, rotations, etc)?  If not, why not?"
   ]
  },
  {
   "cell_type": "markdown",
   "metadata": {},
   "source": [
    "**Answer**: \n",
    "\n",
    "In terms of my transformation, I randomly reviewed the train data and based on what I saw, I decided to augmented my data by adding some variation through random rotations and color jitter. I thought color was important for identifying locations, based on the quality of the camera and/or time of day the picture was taken the color could vary. Through exploration of the photos, I also saw a few rotations and translations so I added the RandomRotation transformation. I chose these transformation so that my architecture could also learn from orientation changes and color changes. \n",
    "\n",
    "Additionally, the images were not all the same size, so I wanted to make sure I captured the same amount of information regardless of the original size of the photo. So I filtered any image that had dimensions less than 256 pixels, and then I resize all the photos to 256 x 256. I wanted the dimensions to squared and a base 2 exponential. Finally, I converted the image into a tensor and normalized that tensor so that my data was standardized across images.   "
   ]
  },
  {
   "cell_type": "markdown",
   "metadata": {},
   "source": [
    "### (IMPLEMENTATION) Visualize a Batch of Training Data\n",
    "\n",
    "Use the code cell below to retrieve a batch of images from your train data loader, display at least 5 images simultaneously, and label each displayed image with its class name (e.g., \"Golden Gate Bridge\").\n",
    "\n",
    "Visualizing the output of your data loader is a great way to ensure that your data loading and preprocessing are working as expected."
   ]
  },
  {
   "cell_type": "code",
   "execution_count": null,
   "metadata": {},
   "outputs": [],
   "source": [
    "import matplotlib.pyplot as plt\n",
    "%matplotlib inline\n",
    "\n",
    "## TODO: visualize a batch of the train data loader\n",
    "\n",
    "class_labels = list(loaders_scratch['train'].dataset.dataset.class_to_idx.keys())\n",
    "train_images, train_labels = next(iter(loaders_scratch['train'])) # get the next batch of images\n",
    "train_images = train_images.numpy()  # convert images from tensor to numpy for display\n",
    "\n",
    "# Test 1 image\n",
    "img = (train_images[0])\n",
    "label = train_labels[0]\n",
    "print(f\"Original Shape: {img.shape} label: {label} class_label: {class_labels[0]}\")\n",
    "\n",
    "\n",
    "# See: https://numpy.org/doc/stable/reference/generated/numpy.transpose.html\n",
    "# Used vector (2,1,0) and how I would like to transpose the ndarray\n",
    "img = np.transpose(img,(2,1,0)) #Why do I need to transpose?\n",
    "print(f\"Transposed Shape: {img.shape}\")\n",
    "\n",
    "plt.imshow(img)\n",
    "plt.show()"
   ]
  },
  {
   "cell_type": "code",
   "execution_count": null,
   "metadata": {},
   "outputs": [],
   "source": [
    "num_images = 6\n",
    "num_columns = 3\n",
    "## the class names can be accessed at the `classes` attribute\n",
    "## of your dataset object (e.g., `train_dataset.classes`)\n",
    "\n",
    "# plot the images in the batch, along with the corresponding labels\n",
    "fig = plt.figure(figsize=(54, 54)) # Canvas size of the figure\n",
    "for idx in np.arange(num_images):\n",
    "    ax = fig.add_subplot(\n",
    "            int(np.floor(num_images/num_columns)), # number of rows\n",
    "            num_columns, \n",
    "            idx+1, \n",
    "            xticks=[], \n",
    "            yticks=[]\n",
    "        )\n",
    "    img = train_images[idx]\n",
    "    img = np.transpose(img,(1,2,0)).clip(0,1)\n",
    "    ax.imshow(img)\n",
    "    \n",
    "    # print out the correct label for each image\n",
    "    ax.set_title(f\"{class_labels[train_labels[idx]]}\", fontdict={'fontsize' : 60, 'color' : 'red'})\n",
    "   "
   ]
  },
  {
   "cell_type": "markdown",
   "metadata": {},
   "source": [
    "### Initialize use_cuda variable"
   ]
  },
  {
   "cell_type": "code",
   "execution_count": null,
   "metadata": {},
   "outputs": [],
   "source": [
    "# useful variable that tells us whether we should use the GPU\n",
    "def check_gpu()->bool:\n",
    "    train_on_gpu = torch.cuda.is_available()\n",
    "    if not train_on_gpu:\n",
    "        print('CUDA is not available.  Training on CPU ...')\n",
    "        #device = \"cpu\"\n",
    "    else:\n",
    "        print('CUDA is available!  Training on GPU ...')\n",
    "        #device = \"cuda\"\n",
    "    #print(f\"Using {device} device\")\n",
    "    device = torch.device(\"cuda:0\" if torch.cuda.is_available() else \"cpu\")\n",
    "    return(device)"
   ]
  },
  {
   "cell_type": "code",
   "execution_count": null,
   "metadata": {},
   "outputs": [],
   "source": [
    "device = check_gpu()"
   ]
  },
  {
   "cell_type": "markdown",
   "metadata": {},
   "source": [
    "### (IMPLEMENTATION) Specify Loss Function and Optimizer\n",
    "\n",
    "Use the next code cell to specify a [loss function](http://pytorch.org/docs/stable/nn.html#loss-functions) and [optimizer](http://pytorch.org/docs/stable/optim.html).  Save the chosen loss function as `criterion_scratch`, and fill in the function `get_optimizer_scratch` below."
   ]
  },
  {
   "cell_type": "code",
   "execution_count": null,
   "metadata": {},
   "outputs": [],
   "source": [
    "## TODO: select loss function\n",
    "criterion_scratch = nn.CrossEntropyLoss(reduction='sum')# Returns the sum of the loss for each batch\n",
    "\n",
    "def get_optimizer_scratch(model, learning_rate = 0.001):\n",
    "    # Reference about Adam optimizer: https://machinelearningmastery.com/adam-optimization-algorithm-for-deep-learning/\n",
    "    # Pytorch Reference: https://pytorch.org/docs/stable/generated/torch.optim.Adam.html#torch.optim.Adam\n",
    "    #learning_rate = 0.001 #This is the default learning_rate for the Adam algoritm anyway\n",
    "    optimizer = torch.optim.Adam(model.parameters(), learning_rate) # The Computational approach to doing optimization with the set criterion\n",
    "    return(optimizer)"
   ]
  },
  {
   "cell_type": "markdown",
   "metadata": {},
   "source": [
    "### (IMPLEMENTATION) Model Architecture\n",
    "\n",
    "Create a CNN to classify images of landmarks.  Use the template in the code cell below."
   ]
  },
  {
   "cell_type": "code",
   "execution_count": null,
   "metadata": {},
   "outputs": [],
   "source": [
    "class Net(nn.Module):\n",
    "    ## TODO: choose an architecture, and complete the class\n",
    "    def __init__(\n",
    "                    self,\n",
    "                    n_outputs = 50,\n",
    "                    image_input_size = 32, #Size of final images from feature functions\n",
    "                    final_depth = 64,\n",
    "                    num_hidden1_nodes = 64,\n",
    "                    num_hidden2_nodes = 50, \n",
    "                ):\n",
    "        \"\"\"Initializing the neural network\n",
    "\n",
    "        In Pytorch, to define any neural network you have to name and define any layers that have any\n",
    "        learned weight values. \n",
    "\n",
    "        Args:\n",
    "            n_outputs (int, optional): The number of target labels. Defaults to 50.\n",
    "        \"\"\"\n",
    "        super(Net, self).__init__()\n",
    "\n",
    "        num_output_nodes = n_outputs\n",
    "        \n",
    "        ## Define layers of a CNN\n",
    "        ## Reference: https://towardsdatascience.com/pytorch-how-and-when-to-use-module-sequential-modulelist-and-moduledict-7a54597b5f17\n",
    "        self.features = nn.Sequential(\n",
    "            OrderedDict(\n",
    "                [   \n",
    "                    #('printsize_0', PrintSize()),\n",
    "                    ('conv_layer1',nn.Conv2d(3, 16, 3, padding=1)), #depth is 3, size = (256,256)\n",
    "                    # Relu activation function?\n",
    "                    ('relu1', nn.ReLU(True)), # activation function. Makes sure values are in a consistent range, True means do in place\n",
    "                    #('printsize_1', PrintSize()),\n",
    "                    ('conv_layer2',nn.Conv2d(16, 32, 3, padding=1)), #depth is 16, size = (256,256), padding=1, means put a border of zeroes, 1 pixel wide around the image. Instead of zeros, I could use the strategy of nearest value.\n",
    "                    #('printsize_2', PrintSize()),\n",
    "                    ('maxpooling_layer1',nn.MaxPool2d(2,2)), #size = (128,128)\n",
    "                    ('relu2', nn.ReLU(True)), # activation function. Makes sure values are in a consistent range\n",
    "                    #depth = 32, also cut the resultant filtered image in half with stride =2\n",
    "                    #('printsize_3', PrintSize()),\n",
    "                    ('conv_layer3',nn.Conv2d(32, 64, 3, padding=1, stride=2)), #depth=64, size=(128,128)\n",
    "                    #('printsize_4', PrintSize()),\n",
    "                    ('maxpooling_layer2',nn.MaxPool2d(2,2)), #depth=64, size=(64,64)\n",
    "                    ('relu3', nn.ReLU(True)), # activation function. Makes sure values are in a consistent range\n",
    "                    #('printsize_5', PrintSize()),\n",
    "                    ('flatten_layer', nn.Flatten()),\n",
    "                    #('printsize_6', PrintSize()),\n",
    "                ]\n",
    "            )\n",
    "        )\n",
    "\n",
    "        # Normal Neural Network\n",
    "        \n",
    "        ## Define Layers for the Linear Neural Network\n",
    "        ## Need to determine the final size from the convolution\n",
    "        self.model = nn.Sequential(\n",
    "            OrderedDict(\n",
    "                [\n",
    "                    ('fc1', nn.Linear(image_input_size * image_input_size * final_depth, num_hidden1_nodes)), # fully connected hidden layer 1\n",
    "                    ('dropout1', nn.Dropout(.2)), # dropout layer to help reduce overfitting\n",
    "                    ('relu1', nn.ReLU()), # activation function. Makes sure values are in a consistent range\n",
    "                    ('fc2', nn.Linear(num_hidden1_nodes, num_hidden2_nodes)), # fully connected hidden layer \n",
    "                    ('dropout2', nn.Dropout(.2)), # to dropout layer to help reduce overfitting\n",
    "                    ('relu2',nn.ReLU()), # activation function.  Makes sure values are in a consistent range\n",
    "                    ('fc3', nn.Linear(num_hidden2_nodes, num_output_nodes)), # output layer\n",
    "                    #('softmax', nn.Softmax(dim=1)) # class probabilities.  Don't need this because I am using cross-entropies optimization\n",
    "                ]\n",
    "            )\n",
    "        )          \n",
    "\n",
    "    def forward(self, x):\n",
    "        ## Define forward behavior \n",
    "        #print(f\"Foward: x.size() = {x.size()}\")  # [64, 3, 256, 256]\n",
    "        inputs = self.features(x)\n",
    "        #print(f\"inputs.size() = {inputs.size()}\") # [6, 64, 1024]\n",
    "        result = self.model(inputs) # Original\n",
    "        return result"
   ]
  },
  {
   "cell_type": "code",
   "execution_count": null,
   "metadata": {},
   "outputs": [],
   "source": [
    "\n",
    "#-#-# Do NOT modify the code below this line. #-#-#\n",
    "\n",
    "# instantiate the CNN\n",
    "model_scratch = Net().to(device) # move tensors to GPU if CUDA is available"
   ]
  },
  {
   "cell_type": "markdown",
   "metadata": {},
   "source": [
    "__Question 2:__ Outline the steps you took to get to your final CNN architecture and your reasoning at each step.  "
   ]
  },
  {
   "cell_type": "markdown",
   "metadata": {},
   "source": [
    "__Answer:__  "
   ]
  },
  {
   "cell_type": "markdown",
   "metadata": {},
   "source": [
    "### (IMPLEMENTATION) Implement the Training Algorithm\n",
    "\n",
    "Implement your training algorithm in the code cell below.  [Save the final model parameters](http://pytorch.org/docs/master/notes/serialization.html) at the filepath stored in the variable `save_path`."
   ]
  },
  {
   "cell_type": "code",
   "execution_count": null,
   "metadata": {},
   "outputs": [],
   "source": [
    "def train(\n",
    "        n_epochs, \n",
    "        loaders, \n",
    "        model, \n",
    "        optimizer, \n",
    "        criterion, \n",
    "        save_path:str = None\n",
    "    )->Net:\n",
    "    \"\"\"returns trained model\"\"\"\n",
    "    # initialize tracker for minimum validation loss\n",
    "    valid_loss_min = np.Inf \n",
    "    \n",
    "    batch_size = loaders['train'].batch_size\n",
    "    num_of_batches = len(loaders['train'])\n",
    "    num_of_images = batch_size * num_of_batches\n",
    "    for epoch in range(1, n_epochs+1):\n",
    "        # initialize variables to monitor training and validation loss\n",
    "        train_loss = 0.0\n",
    "        valid_loss = 0.0\n",
    "        \n",
    "        ###################\n",
    "        # train the model #\n",
    "        ###################\n",
    "        model.train() # Inherited from nn.Module class. set the module to training mode\n",
    "        for batch_idx, (X, y) in enumerate(loaders['train']):\n",
    "            optimizer.zero_grad() # clear the gradients of all optimized variables\n",
    "            output = model(X)  # forward pass: compute predicted outputs of the batch by passing inputs to the model\n",
    "            loss = criterion(output, y) # calculate the batch loss\n",
    "            \n",
    "            train_loss += loss.item()\n",
    "            loss.backward() # Locating the weights that produce the most error.  Backward propagating the error\n",
    "            optimizer.step() # perform a single optimization step (parameter update), updating weights\n",
    "\n",
    "        if train_loss == np.nan:\n",
    "            raise ValueError(\"train loss is nan\")\n",
    "\n",
    "        ######################    \n",
    "        # validate the model #\n",
    "        ######################\n",
    "        # set the model to evaluation mode\n",
    "        model.eval()\n",
    "        # For Loop: Sums all the loss across the batch items\n",
    "        for batch_idx, (X, y) in enumerate(loaders['valid']):\n",
    "            output = model(X) # forward pass: compute predicted outputs by passing inputs to the model\n",
    "            loss = criterion(output, y) # calculate the batch loss \n",
    "            valid_loss += loss.item() # update average validation loss, running loss\n",
    "            #valid_loss += v_loss.item()\n",
    "\n",
    "        if valid_loss == np.nan:\n",
    "            raise ValueError(\"valid loss is nan\")\n",
    "\n",
    "        ## TODO: find the loss and update the model parameters accordingly\n",
    "            ## record the average training loss, using something like\n",
    "            ## train_loss = train_loss + ((1 / (batch_idx + 1)) * (loss.data.item() - train_loss))\n",
    "            # update training loss\n",
    "\n",
    "        train_loss = train_loss/num_of_images\n",
    "        valid_loss = valid_loss/num_of_images\n",
    "            \n",
    "        # print training/validation statistics \n",
    "        print(f'Epoch: {epoch}/{n_epochs} \\tTraining Loss: {train_loss:.6f} \\tValidation Loss: {valid_loss:.6f}')\n",
    "\n",
    "        ## TODO: if the validation loss has decreased, save the model at the filepath stored in save_path\n",
    "        # save model if validation loss has decreased\n",
    "        if valid_loss <= valid_loss_min:\n",
    "            if save_path is not None:\n",
    "                print(f'Validation loss decreased ({valid_loss_min:.6f} --> {valid_loss:.6f}).  Saving model ...')\n",
    "                torch.save(model.state_dict(), save_path)\n",
    "            valid_loss_min = valid_loss\n",
    "        \n",
    "    return model"
   ]
  },
  {
   "cell_type": "markdown",
   "metadata": {},
   "source": [
    "### (IMPLEMENTATION) Experiment with the Weight Initialization\n",
    "\n",
    "Use the code cell below to define a custom weight initialization, and then train with your weight initialization for a few epochs. Make sure that neither the training loss nor validation loss is `nan`.\n",
    "\n",
    "Later on, you will be able to see how this compares to training with PyTorch's default weight initialization."
   ]
  },
  {
   "cell_type": "markdown",
   "metadata": {},
   "source": [
    "Then let's create a distribution and model that uses the **general rule** for weight initialization; using the range $[-y, y]$, where $y=1/\\sqrt{n}$ .\n",
    "\n",
    "And finally, we'll compare the two models."
   ]
  },
  {
   "cell_type": "code",
   "execution_count": null,
   "metadata": {},
   "outputs": [],
   "source": [
    "def custom_weight_init(m):\n",
    "    ## TODO: implement a weight initialization strategy\n",
    "    classname = m.__class__.__name__\n",
    "    # for every Linear layer in a model..\n",
    "    if classname.find('Linear') != -1:\n",
    "        # get the number of the inputs\n",
    "        n = m.in_features\n",
    "        y = 1.0/np.sqrt(n)\n",
    "        m.weight.data.uniform_(-y, y)\n",
    "        m.bias.data.fill_(0)\n",
    "\n",
    "#-#-# Do NOT modify the code below this line. #-#-#\n",
    "    \n",
    "model_scratch.apply(custom_weight_init)\n",
    "model_scratch = train(n_epochs, loaders_scratch, model_scratch, get_optimizer_scratch(model_scratch),\n",
    "                      criterion_scratch, 'ignore.pt')"
   ]
  },
  {
   "cell_type": "markdown",
   "metadata": {},
   "source": [
    "### (IMPLEMENTATION) Train and Validate the Model\n",
    "\n",
    "Run the next code cell to train your model."
   ]
  },
  {
   "cell_type": "code",
   "execution_count": null,
   "metadata": {},
   "outputs": [],
   "source": [
    "## TODO: you may change the number of epochs if you'd like,\n",
    "## but changing it is not required\n",
    "num_epochs = 100\n",
    "\n",
    "#-#-# Do NOT modify the code below this line. #-#-#\n",
    "\n",
    "# function to re-initialize a model with pytorch's default weight initialization\n",
    "def default_weight_init(m):\n",
    "    reset_parameters = getattr(m, 'reset_parameters', None)\n",
    "    if callable(reset_parameters):\n",
    "        m.reset_parameters()\n",
    "\n",
    "# reset the model parameters\n",
    "model_scratch.apply(default_weight_init)\n",
    "\n",
    "# train the model\n",
    "model_scratch = train(num_epochs, loaders_scratch, model_scratch, get_optimizer_scratch(model_scratch), \n",
    "                      criterion_scratch, 'model_scratch.pt')"
   ]
  },
  {
   "cell_type": "markdown",
   "metadata": {},
   "source": [
    "### (IMPLEMENTATION) Test the Model\n",
    "\n",
    "Run the code cell below to try out your model on the test dataset of landmark images. Run the code cell below to calculate and print the test loss and accuracy.  Ensure that your test accuracy is greater than 20%."
   ]
  },
  {
   "cell_type": "code",
   "execution_count": null,
   "metadata": {},
   "outputs": [],
   "source": [
    "def test(loaders, model, criterion, use_cuda):\n",
    "\n",
    "    # monitor test loss and accuracy\n",
    "    test_loss = 0.0\n",
    "    correct = 0.0\n",
    "    total = 0.0\n",
    "\n",
    "    # set the module to evaluation mode\n",
    "    model.eval()\n",
    "\n",
    "    for batch_idx, (data, target) in enumerate(loaders['test']):\n",
    "        # move to GPU\n",
    "        if use_cuda:\n",
    "            data, target = data.cuda(), target.cuda()\n",
    "        # forward pass: compute predicted outputs by passing inputs to the model\n",
    "        output = model(data)\n",
    "        # calculate the loss\n",
    "        loss = criterion(output, target)\n",
    "        # update average test loss \n",
    "        test_loss = test_loss + ((1 / (batch_idx + 1)) * (loss.data.item() - test_loss))\n",
    "        # convert output probabilities to predicted class\n",
    "        pred = output.data.max(1, keepdim=True)[1]\n",
    "        # compare predictions to true label\n",
    "        correct += np.sum(np.squeeze(pred.eq(target.data.view_as(pred))).cpu().numpy())\n",
    "        total += data.size(0)\n",
    "            \n",
    "    print('Test Loss: {:.6f}\\n'.format(test_loss))\n",
    "\n",
    "    print('\\nTest Accuracy: %2d%% (%2d/%2d)' % (\n",
    "        100. * correct / total, correct, total))\n",
    "\n",
    "# load the model that got the best validation accuracy\n",
    "model_scratch.load_state_dict(torch.load('model_scratch.pt'))\n",
    "test(loaders_scratch, model_scratch, criterion_scratch, use_cuda)"
   ]
  },
  {
   "cell_type": "markdown",
   "metadata": {},
   "source": [
    "---\n",
    "<a id='step2'></a>\n",
    "## Step 2: Create a CNN to Classify Landmarks (using Transfer Learning)\n",
    "\n",
    "You will now use transfer learning to create a CNN that can identify landmarks from images.  Your CNN must attain at least 60% accuracy on the test set.\n",
    "\n",
    "### (IMPLEMENTATION) Specify Data Loaders for the Landmark Dataset\n",
    "\n",
    "Use the code cell below to create three separate [data loaders](http://pytorch.org/docs/stable/data.html#torch.utils.data.DataLoader): one for training data, one for validation data, and one for test data. Randomly split the images located at `landmark_images/train` to create the train and validation data loaders, and use the images located at `landmark_images/test` to create the test data loader.\n",
    "\n",
    "All three of your data loaders should be accessible via a dictionary named `loaders_transfer`. Your train data loader should be at `loaders_transfer['train']`, your validation data loader should be at `loaders_transfer['valid']`, and your test data loader should be at `loaders_transfer['test']`.\n",
    "\n",
    "If you like, **you are welcome to use the same data loaders from the previous step**, when you created a CNN from scratch."
   ]
  },
  {
   "cell_type": "code",
   "execution_count": null,
   "metadata": {},
   "outputs": [],
   "source": [
    "### TODO: Write data loaders for training, validation, and test sets\n",
    "## Specify appropriate transforms, and batch_sizes\n",
    "\n",
    "loaders_transfer = {'train': None, 'valid': None, 'test': None}\n",
    "\n",
    "\n",
    "\n"
   ]
  },
  {
   "cell_type": "markdown",
   "metadata": {},
   "source": [
    "### (IMPLEMENTATION) Specify Loss Function and Optimizer\n",
    "\n",
    "Use the next code cell to specify a [loss function](http://pytorch.org/docs/stable/nn.html#loss-functions) and [optimizer](http://pytorch.org/docs/stable/optim.html).  Save the chosen loss function as `criterion_transfer`, and fill in the function `get_optimizer_transfer` below."
   ]
  },
  {
   "cell_type": "code",
   "execution_count": null,
   "metadata": {},
   "outputs": [],
   "source": [
    "## TODO: select loss function\n",
    "criterion_transfer = None\n",
    "\n",
    "\n",
    "def get_optimizer_transfer(model):\n",
    "    ## TODO: select and return optimizer\n",
    "\n",
    "    \n",
    "    "
   ]
  },
  {
   "cell_type": "markdown",
   "metadata": {},
   "source": [
    "### (IMPLEMENTATION) Model Architecture\n",
    "\n",
    "Use transfer learning to create a CNN to classify images of landmarks.  Use the code cell below, and save your initialized model as the variable `model_transfer`."
   ]
  },
  {
   "cell_type": "code",
   "execution_count": null,
   "metadata": {},
   "outputs": [],
   "source": [
    "## TODO: Specify model architecture\n",
    "\n",
    "model_transfer = None\n",
    "\n",
    "\n",
    "\n",
    "\n",
    "#-#-# Do NOT modify the code below this line. #-#-#\n",
    "\n",
    "if use_cuda:\n",
    "    model_transfer = model_transfer.cuda()"
   ]
  },
  {
   "cell_type": "markdown",
   "metadata": {},
   "source": [
    "__Question 3:__ Outline the steps you took to get to your final CNN architecture and your reasoning at each step.  Describe why you think the architecture is suitable for the current problem."
   ]
  },
  {
   "cell_type": "markdown",
   "metadata": {},
   "source": [
    "__Answer:__  "
   ]
  },
  {
   "cell_type": "markdown",
   "metadata": {},
   "source": [
    "### (IMPLEMENTATION) Train and Validate the Model\n",
    "\n",
    "Train and validate your model in the code cell below.  [Save the final model parameters](http://pytorch.org/docs/master/notes/serialization.html) at filepath `'model_transfer.pt'`."
   ]
  },
  {
   "cell_type": "code",
   "execution_count": null,
   "metadata": {},
   "outputs": [],
   "source": [
    "# TODO: train the model and save the best model parameters at filepath 'model_transfer.pt'\n",
    "\n",
    "\n",
    "\n",
    "#-#-# Do NOT modify the code below this line. #-#-#\n",
    "\n",
    "# load the model that got the best validation accuracy\n",
    "model_transfer.load_state_dict(torch.load('model_transfer.pt'))"
   ]
  },
  {
   "cell_type": "markdown",
   "metadata": {},
   "source": [
    "### (IMPLEMENTATION) Test the Model\n",
    "\n",
    "Try out your model on the test dataset of landmark images. Use the code cell below to calculate and print the test loss and accuracy.  Ensure that your test accuracy is greater than 60%."
   ]
  },
  {
   "cell_type": "code",
   "execution_count": null,
   "metadata": {},
   "outputs": [],
   "source": [
    "test(loaders_transfer, model_transfer, criterion_transfer, use_cuda)"
   ]
  },
  {
   "cell_type": "markdown",
   "metadata": {},
   "source": [
    "---\n",
    "<a id='step3'></a>\n",
    "## Step 3: Write Your Landmark Prediction Algorithm\n",
    "\n",
    "Great job creating your CNN models! Now that you have put in all the hard work of creating accurate classifiers, let's define some functions to make it easy for others to use your classifiers.\n",
    "\n",
    "### (IMPLEMENTATION) Write Your Algorithm, Part 1\n",
    "\n",
    "Implement the function `predict_landmarks`, which accepts a file path to an image and an integer k, and then predicts the **top k most likely landmarks**. You are **required** to use your transfer learned CNN from Step 2 to predict the landmarks.\n",
    "\n",
    "An example of the expected behavior of `predict_landmarks`:\n",
    "```\n",
    ">>> predicted_landmarks = predict_landmarks('example_image.jpg', 3)\n",
    ">>> print(predicted_landmarks)\n",
    "['Golden Gate Bridge', 'Brooklyn Bridge', 'Sydney Harbour Bridge']\n",
    "```"
   ]
  },
  {
   "cell_type": "code",
   "execution_count": null,
   "metadata": {},
   "outputs": [],
   "source": [
    "import cv2\n",
    "from PIL import Image\n",
    "\n",
    "## the class names can be accessed at the `classes` attribute\n",
    "## of your dataset object (e.g., `train_dataset.classes`)\n",
    "\n",
    "def predict_landmarks(img_path, k):\n",
    "    ## TODO: return the names of the top k landmarks predicted by the transfer learned CNN\n",
    "    \n",
    "\n",
    "\n",
    "# test on a sample image\n",
    "predict_landmarks('images/test/09.Golden_Gate_Bridge/190f3bae17c32c37.jpg', 5)"
   ]
  },
  {
   "cell_type": "markdown",
   "metadata": {},
   "source": [
    "### (IMPLEMENTATION) Write Your Algorithm, Part 2\n",
    "\n",
    "In the code cell below, implement the function `suggest_locations`, which accepts a file path to an image as input, and then displays the image and the **top 3 most likely landmarks** as predicted by `predict_landmarks`.\n",
    "\n",
    "Some sample output for `suggest_locations` is provided below, but feel free to design your own user experience!\n",
    "![](images/sample_landmark_output.png)"
   ]
  },
  {
   "cell_type": "code",
   "execution_count": null,
   "metadata": {},
   "outputs": [],
   "source": [
    "def suggest_locations(img_path):\n",
    "    # get landmark predictions\n",
    "    predicted_landmarks = predict_landmarks(img_path, 3)\n",
    "    \n",
    "    ## TODO: display image and display landmark predictions\n",
    "\n",
    "    \n",
    "    \n",
    "\n",
    "# test on a sample image\n",
    "suggest_locations('images/test/09.Golden_Gate_Bridge/190f3bae17c32c37.jpg')"
   ]
  },
  {
   "cell_type": "markdown",
   "metadata": {},
   "source": [
    "### (IMPLEMENTATION) Test Your Algorithm\n",
    "\n",
    "Test your algorithm by running the `suggest_locations` function on at least four images on your computer. Feel free to use any images you like.\n",
    "\n",
    "__Question 4:__ Is the output better than you expected :) ?  Or worse :( ?  Provide at least three possible points of improvement for your algorithm."
   ]
  },
  {
   "cell_type": "markdown",
   "metadata": {},
   "source": [
    "__Answer:__ (Three possible points for improvement)"
   ]
  },
  {
   "cell_type": "code",
   "execution_count": null,
   "metadata": {},
   "outputs": [],
   "source": [
    "## TODO: Execute the `suggest_locations` function on\n",
    "## at least 4 images on your computer.\n",
    "## Feel free to use as many code cells as needed.\n",
    "\n"
   ]
  }
 ],
 "metadata": {
  "kernelspec": {
   "display_name": "Python 3.10.0 64-bit ('udacity')",
   "language": "python",
   "name": "python3"
  },
  "language_info": {
   "codemirror_mode": {
    "name": "ipython",
    "version": 3
   },
   "file_extension": ".py",
   "mimetype": "text/x-python",
   "name": "python",
   "nbconvert_exporter": "python",
   "pygments_lexer": "ipython3",
   "version": "3.10.0"
  },
  "vscode": {
   "interpreter": {
    "hash": "8b0b28a8bc615e7fecb37c1974629dbf03c4598c167334a5193ac3de569550f6"
   }
  }
 },
 "nbformat": 4,
 "nbformat_minor": 2
}
